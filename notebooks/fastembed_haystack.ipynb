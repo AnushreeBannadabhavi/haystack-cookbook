{
  "nbformat": 4,
  "nbformat_minor": 0,
  "metadata": {
    "colab": {
      "provenance": [],
      "gpuType": "T4",
      "authorship_tag": "ABX9TyOUHSz9GGV1Pg5thVug4r0Z",
      "include_colab_link": true
    },
    "kernelspec": {
      "name": "python3",
      "display_name": "Python 3"
    },
    "language_info": {
      "name": "python"
    },
    "accelerator": "GPU"
  },
  "cells": [
    {
      "cell_type": "markdown",
      "metadata": {
        "id": "view-in-github",
        "colab_type": "text"
      },
      "source": [
        "<a href=\"https://colab.research.google.com/github/nickprock/haystack-cookbook/blob/main/notebooks/fastembed_haystack.ipynb\" target=\"_parent\"><img src=\"https://colab.research.google.com/assets/colab-badge.svg\" alt=\"Open In Colab\"/></a>"
      ]
    },
    {
      "cell_type": "markdown",
      "source": [
        "# RAG pipeline using FastEmbed embeddings, QdrantDocumentStore and Zephyr-7B with Haystack\n",
        "\n",
        "## Install dependencies"
      ],
      "metadata": {
        "id": "cb7RLf9gpEoN"
      }
    },
    {
      "cell_type": "code",
      "execution_count": null,
      "metadata": {
        "id": "tnSq1XK_ovZV"
      },
      "outputs": [],
      "source": [
        "!pip install fastembed-haystack qdrant-haystack wikipedia\n"
      ]
    },
    {
      "cell_type": "code",
      "source": [
        "import warnings\n",
        "\n",
        "warnings.filterwarnings(\"ignore\")"
      ],
      "metadata": {
        "id": "gpDWG-a09O2p"
      },
      "execution_count": null,
      "outputs": []
    },
    {
      "cell_type": "markdown",
      "source": [
        "### Use your Hugging Face Token"
      ],
      "metadata": {
        "id": "wq1STZtq9gt7"
      }
    },
    {
      "cell_type": "code",
      "source": [
        "from getpass import getpass\n",
        "import os\n",
        "\n",
        "os.environ[\"HF_API_TOKEN\"] = getpass(\"Enter your Hugging Face Token: https://huggingface.co/settings/tokens \")"
      ],
      "metadata": {
        "id": "Zn-0LNOwUAjm"
      },
      "execution_count": null,
      "outputs": []
    },
    {
      "cell_type": "markdown",
      "source": [
        "## Download contents and create docs"
      ],
      "metadata": {
        "id": "x8Bpy1ri_Ipx"
      }
    },
    {
      "cell_type": "code",
      "source": [
        "favourite_bands=\"\"\"Audioslave\n",
        "Green Day\n",
        "Muse (band)\n",
        "Foo Fighters (band)\n",
        "Nirvana (band)\"\"\".split(\"\\n\")"
      ],
      "metadata": {
        "id": "2NIxMNQTzcfV"
      },
      "execution_count": null,
      "outputs": []
    },
    {
      "cell_type": "code",
      "source": [
        "import wikipedia\n",
        "from haystack.dataclasses import Document\n",
        "\n",
        "raw_docs=[]\n",
        "\n",
        "for title in favourite_bands:\n",
        "    page = wikipedia.page(title=title, auto_suggest=False)\n",
        "    doc = Document(content=page.content, meta={\"title\": page.title, \"url\":page.url})\n",
        "    raw_docs.append(doc)"
      ],
      "metadata": {
        "id": "7FpCSSnUzuuP"
      },
      "execution_count": null,
      "outputs": []
    },
    {
      "cell_type": "markdown",
      "source": [
        "## Clean, split and index documents on Qdrant"
      ],
      "metadata": {
        "id": "DLiNhYKV_g8u"
      }
    },
    {
      "cell_type": "code",
      "source": [
        "from haystack_integrations.document_stores.qdrant import QdrantDocumentStore\n",
        "from haystack.components.preprocessors import DocumentCleaner, DocumentSplitter\n",
        "from haystack_integrations.components.embedders.fastembed import FastembedDocumentEmbedder\n",
        "from haystack.components.writers import DocumentWriter\n",
        "from haystack.document_stores.types import DuplicatePolicy"
      ],
      "metadata": {
        "id": "a1taDmfx1HCM"
      },
      "execution_count": null,
      "outputs": []
    },
    {
      "cell_type": "code",
      "source": [
        "document_store = document_store = QdrantDocumentStore(\n",
        "    \":memory:\",\n",
        "    embedding_dim = 768,\n",
        "    recreate_index=True,\n",
        "    return_embedding=True,\n",
        "    wait_result_from_api=True,\n",
        ")"
      ],
      "metadata": {
        "id": "eAKP9icf1Inj"
      },
      "execution_count": null,
      "outputs": []
    },
    {
      "cell_type": "code",
      "source": [
        "cleaner = DocumentCleaner()\n",
        "splitter = DocumentSplitter(split_by='sentence', split_length=2)\n",
        "\n",
        "splitted_docs = splitter.run(cleaner.run(raw_docs)[\"documents\"])"
      ],
      "metadata": {
        "id": "6rbZVTxR907n"
      },
      "execution_count": null,
      "outputs": []
    },
    {
      "cell_type": "code",
      "source": [
        "document_embedder = FastembedDocumentEmbedder(model=\"BAAI/bge-base-en-v1.5\", parallel = 0, meta_fields_to_embed=[\"title\"])\n",
        "document_embedder.warm_up()\n",
        "documents_with_embeddings = document_embedder.run(splitted_docs[\"documents\"])"
      ],
      "metadata": {
        "id": "U3s_68uw9FSW"
      },
      "execution_count": null,
      "outputs": []
    },
    {
      "cell_type": "code",
      "source": [
        "document_store.write_documents(documents_with_embeddings.get(\"documents\"), policy=DuplicatePolicy.OVERWRITE)"
      ],
      "metadata": {
        "id": "dyBwOzM-9Tqm"
      },
      "execution_count": null,
      "outputs": []
    },
    {
      "cell_type": "markdown",
      "source": [
        "## RAG Pipeline using Zephyr-7B"
      ],
      "metadata": {
        "id": "IdsqgLzE11_P"
      }
    },
    {
      "cell_type": "code",
      "source": [
        "from haystack import Pipeline\n",
        "from haystack_integrations.components.retrievers.qdrant import QdrantEmbeddingRetriever\n",
        "from haystack_integrations.components.embedders.fastembed import FastembedTextEmbedder\n",
        "from haystack.components.generators import HuggingFaceTGIGenerator\n",
        "from haystack.components.builders.prompt_builder import PromptBuilder\n",
        "\n",
        "from pprint import pprint"
      ],
      "metadata": {
        "id": "HTlEGit3_XFk"
      },
      "execution_count": null,
      "outputs": []
    },
    {
      "cell_type": "code",
      "source": [
        "generator = HuggingFaceTGIGenerator(\"HuggingFaceH4/zephyr-7b-beta\",\n",
        "                                    generation_kwargs={\"max_new_tokens\":500})\n",
        "generator.warm_up()"
      ],
      "metadata": {
        "id": "94cUO0isUE7u"
      },
      "execution_count": null,
      "outputs": []
    },
    {
      "cell_type": "code",
      "source": [
        "# define the prompt template\n",
        "\n",
        "prompt_template = \"\"\"\n",
        "Using only the information contained in these documents return a brief answer (max 50 words).\n",
        "If the answer cannot be inferred from the documents, respond \\\"I don't know\\\".\n",
        "Documents:\n",
        "{% for doc in documents %}\n",
        "    {{ doc.content }}\n",
        "{% endfor %}\n",
        "Question: {{question}}\n",
        "Answer:\n",
        "\"\"\""
      ],
      "metadata": {
        "id": "f4w6WMDsUZy1"
      },
      "execution_count": null,
      "outputs": []
    },
    {
      "cell_type": "code",
      "source": [
        "query_pipeline = Pipeline()\n",
        "query_pipeline.add_component(\"text_embedder\", FastembedTextEmbedder(model=\"BAAI/bge-base-en-v1.5\", prefix=\"query:\"))\n",
        "query_pipeline.add_component(\"retriever\", QdrantEmbeddingRetriever(document_store=document_store))\n",
        "query_pipeline.add_component(\"prompt_builder\", PromptBuilder(template=prompt_template))\n",
        "query_pipeline.add_component(\"generator\", generator)\n",
        "\n"
      ],
      "metadata": {
        "id": "uBIq_9Zz5iC5"
      },
      "execution_count": null,
      "outputs": []
    },
    {
      "cell_type": "code",
      "source": [
        "# connect the components\n",
        "query_pipeline.connect(\"text_embedder.embedding\", \"retriever.query_embedding\")\n",
        "query_pipeline.connect(\"retriever.documents\", \"prompt_builder.documents\")\n",
        "query_pipeline.connect(\"prompt_builder\", \"generator\")"
      ],
      "metadata": {
        "id": "Wry8LFP4pAm_"
      },
      "execution_count": null,
      "outputs": []
    },
    {
      "cell_type": "markdown",
      "source": [
        "## Try the pipeline"
      ],
      "metadata": {
        "id": "sQnk_qCW890T"
      }
    },
    {
      "cell_type": "code",
      "source": [
        "question = \"Who is Dave Grohl?\"\n",
        "\n",
        "results = query_pipeline.run(\n",
        "    {   \"text_embedder\": {\"text\": question},\n",
        "        \"prompt_builder\": {\"question\": question},\n",
        "    }\n",
        ")\n",
        "\n"
      ],
      "metadata": {
        "id": "NpUwlxIj6O0R"
      },
      "execution_count": null,
      "outputs": []
    },
    {
      "cell_type": "code",
      "source": [
        "for d in results['generator']['replies']:\n",
        "  pprint(d)"
      ],
      "metadata": {
        "id": "rcFsJVoqQ4zQ"
      },
      "execution_count": null,
      "outputs": []
    }
  ]
}